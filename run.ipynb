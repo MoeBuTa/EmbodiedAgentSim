{
 "cells": [
  {
   "cell_type": "code",
   "id": "initial_id",
   "metadata": {
    "collapsed": true,
    "ExecuteTime": {
     "end_time": "2025-04-25T13:52:27.774667Z",
     "start_time": "2025-04-25T13:52:25.784435Z"
    }
   },
   "source": [
    "import habitat_sim\n",
    "import os\n",
    "\n",
    "from easim.utils.constants import HM3D_SCENE_DIR\n",
    "\n",
    "backend_cfg = habitat_sim.SimulatorConfiguration()\n",
    "backend_cfg.scene_id = os.path.join(HM3D_SCENE_DIR, \"/minival/00800-TEEsavR23oF/TEEsavR23oF.basis.glb\")\n",
    "backend_cfg.scene_dataset_config_file = os.path.join(HM3D_SCENE_DIR, \"hm3d_annotated_basis.scene_dataset_config.json\")\n",
    "\n",
    "sem_cfg = habitat_sim.CameraSensorSpec()\n",
    "sem_cfg.uuid = \"semantic\"\n",
    "sem_cfg.sensor_type = habitat_sim.SensorType.SEMANTIC\n",
    "\n",
    "agent_cfg = habitat_sim.agent.AgentConfiguration()\n",
    "agent_cfg.sensor_specifications = [sem_cfg]\n",
    "\n",
    "sim_cfg = habitat_sim.Configuration(backend_cfg, [agent_cfg])\n",
    "sim = habitat_sim.Simulator(sim_cfg)"
   ],
   "outputs": [
    {
     "name": "stderr",
     "output_type": "stream",
     "text": [
      "/Users/wenxiao/miniconda3/envs/habitat/lib/python3.9/site-packages/tqdm/auto.py:21: TqdmWarning: IProgress not found. Please update jupyter and ipywidgets. See https://ipywidgets.readthedocs.io/en/stable/user_install.html\n",
      "  from .autonotebook import tqdm as notebook_tqdm\n"
     ]
    },
    {
     "name": "stdout",
     "output_type": "stream",
     "text": [
      "Renderer: Apple M4 Pro by Apple\n",
      "OpenGL version: 4.1 Metal - 89.4\n",
      "Using optional features:\n",
      "    GL_ARB_vertex_array_object\n",
      "    GL_ARB_ES2_compatibility\n",
      "    GL_ARB_separate_shader_objects\n",
      "    GL_ARB_texture_storage\n",
      "    GL_EXT_texture_filter_anisotropic\n",
      "    GL_EXT_debug_label\n",
      "    GL_EXT_debug_marker\n",
      "Using driver workarounds:\n",
      "    no-layout-qualifiers-on-old-glsl\n",
      "    apple-buffer-texture-unbind-on-buffer-modify\n"
     ]
    },
    {
     "name": "stderr",
     "output_type": "stream",
     "text": [
      "PluginManager::Manager: duplicate static plugin AssimpImporter, ignoring\n",
      "PluginManager::Manager: duplicate static plugin AnySceneImporter, ignoring\n",
      "PluginManager::Manager: duplicate static plugin StbImageImporter, ignoring\n",
      "PluginManager::Manager: duplicate static plugin AnyImageImporter, ignoring\n",
      "PluginManager::Manager: duplicate static plugin GltfImporter, ignoring\n",
      "PluginManager::Manager: duplicate static plugin BasisImporter, ignoring\n",
      "[20:05:12:470260]:[Error]:[Metadata] StageAttributesManager.cpp(413)::preRegisterObjectFinalize : Render asset template handle `/minival/00800-TEEsavR23oF/TEEsavR23oF.basis.glb` specified in stage template with handle :/minival/00800-TEEsavR23oF/TEEsavR23oF.basis.glbdoes not correspond to any existing file or primitive render asset, so StageAttributes registration is aborted.\n"
     ]
    },
    {
     "ename": "AssertionError",
     "evalue": "ESP_CHECK failed: No Stage Attributes exists for requested scene '/minival/00800-TEEsavR23oF/TEEsavR23oF.basis.glb' in currently specified Scene Dataset `/Users/wenxiao/data/scene_datasets/hm3d/hm3d_annotated_basis.scene_dataset_config.json`. Likely cause is either the Scene Dataset Configuration requested was not found, or the paths to the various dataset component configuration files (i.e. stage, object, scene instance, etc.) specified in the Scene Dataset Configuration file cannot be found. Verify the paths and filenames for the desired Scene Dataset Configuration file and the paths specified within the file.",
     "output_type": "error",
     "traceback": [
      "\u001B[0;31m---------------------------------------------------------------------------\u001B[0m",
      "\u001B[0;31mAssertionError\u001B[0m                            Traceback (most recent call last)",
      "Cell \u001B[0;32mIn[1], line 18\u001B[0m\n\u001B[1;32m     15\u001B[0m agent_cfg\u001B[38;5;241m.\u001B[39msensor_specifications \u001B[38;5;241m=\u001B[39m [sem_cfg]\n\u001B[1;32m     17\u001B[0m sim_cfg \u001B[38;5;241m=\u001B[39m habitat_sim\u001B[38;5;241m.\u001B[39mConfiguration(backend_cfg, [agent_cfg])\n\u001B[0;32m---> 18\u001B[0m sim \u001B[38;5;241m=\u001B[39m \u001B[43mhabitat_sim\u001B[49m\u001B[38;5;241;43m.\u001B[39;49m\u001B[43mSimulator\u001B[49m\u001B[43m(\u001B[49m\u001B[43msim_cfg\u001B[49m\u001B[43m)\u001B[49m\n",
      "File \u001B[0;32m<attrs generated methods habitat_sim.simulator.Simulator>:40\u001B[0m, in \u001B[0;36m__init__\u001B[0;34m(self, config, async_draw_agent_ids)\u001B[0m\n\u001B[1;32m     38\u001B[0m \u001B[38;5;28mself\u001B[39m\u001B[38;5;241m.\u001B[39m_async_draw_agent_ids \u001B[38;5;241m=\u001B[39m async_draw_agent_ids\n\u001B[1;32m     39\u001B[0m \u001B[38;5;28mself\u001B[39m\u001B[38;5;241m.\u001B[39m_Simulator__last_state \u001B[38;5;241m=\u001B[39m __attr_factory__Simulator__last_state()\n\u001B[0;32m---> 40\u001B[0m \u001B[38;5;28;43mself\u001B[39;49m\u001B[38;5;241;43m.\u001B[39;49m\u001B[43m__attrs_post_init__\u001B[49m\u001B[43m(\u001B[49m\u001B[43m)\u001B[49m\n",
      "File \u001B[0;32m~/miniconda3/envs/habitat/lib/python3.9/site-packages/habitat_sim-0.3.3-py3.9-macosx-11.0-arm64.egg/habitat_sim/simulator.py:118\u001B[0m, in \u001B[0;36mSimulator.__attrs_post_init__\u001B[0;34m(self)\u001B[0m\n\u001B[1;32m    116\u001B[0m LoggingContext\u001B[38;5;241m.\u001B[39mreinitialize_from_env()\n\u001B[1;32m    117\u001B[0m \u001B[38;5;28mself\u001B[39m\u001B[38;5;241m.\u001B[39m_sanitize_config(\u001B[38;5;28mself\u001B[39m\u001B[38;5;241m.\u001B[39mconfig)\n\u001B[0;32m--> 118\u001B[0m \u001B[38;5;28;43mself\u001B[39;49m\u001B[38;5;241;43m.\u001B[39;49m\u001B[43m__set_from_config\u001B[49m\u001B[43m(\u001B[49m\u001B[38;5;28;43mself\u001B[39;49m\u001B[38;5;241;43m.\u001B[39;49m\u001B[43mconfig\u001B[49m\u001B[43m)\u001B[49m\n",
      "File \u001B[0;32m~/miniconda3/envs/habitat/lib/python3.9/site-packages/habitat_sim-0.3.3-py3.9-macosx-11.0-arm64.egg/habitat_sim/simulator.py:238\u001B[0m, in \u001B[0;36mSimulator.__set_from_config\u001B[0;34m(self, config)\u001B[0m\n\u001B[1;32m    237\u001B[0m \u001B[38;5;28;01mdef\u001B[39;00m\u001B[38;5;250m \u001B[39m\u001B[38;5;21m__set_from_config\u001B[39m(\u001B[38;5;28mself\u001B[39m, config: Configuration) \u001B[38;5;241m-\u001B[39m\u001B[38;5;241m>\u001B[39m \u001B[38;5;28;01mNone\u001B[39;00m:\n\u001B[0;32m--> 238\u001B[0m     \u001B[38;5;28;43mself\u001B[39;49m\u001B[38;5;241;43m.\u001B[39;49m\u001B[43m_config_backend\u001B[49m\u001B[43m(\u001B[49m\u001B[43mconfig\u001B[49m\u001B[43m)\u001B[49m\n\u001B[1;32m    239\u001B[0m     \u001B[38;5;28mself\u001B[39m\u001B[38;5;241m.\u001B[39m_config_agents(config)\n\u001B[1;32m    240\u001B[0m     \u001B[38;5;28mself\u001B[39m\u001B[38;5;241m.\u001B[39m_config_pathfinder(config)\n",
      "File \u001B[0;32m~/miniconda3/envs/habitat/lib/python3.9/site-packages/habitat_sim-0.3.3-py3.9-macosx-11.0-arm64.egg/habitat_sim/simulator.py:211\u001B[0m, in \u001B[0;36mSimulator._config_backend\u001B[0;34m(self, config)\u001B[0m\n\u001B[1;32m    209\u001B[0m \u001B[38;5;28;01mdef\u001B[39;00m\u001B[38;5;250m \u001B[39m\u001B[38;5;21m_config_backend\u001B[39m(\u001B[38;5;28mself\u001B[39m, config: Configuration) \u001B[38;5;241m-\u001B[39m\u001B[38;5;241m>\u001B[39m \u001B[38;5;28;01mNone\u001B[39;00m:\n\u001B[1;32m    210\u001B[0m     \u001B[38;5;28;01mif\u001B[39;00m \u001B[38;5;129;01mnot\u001B[39;00m \u001B[38;5;28mself\u001B[39m\u001B[38;5;241m.\u001B[39m_initialized:\n\u001B[0;32m--> 211\u001B[0m         \u001B[38;5;28;43msuper\u001B[39;49m\u001B[43m(\u001B[49m\u001B[43m)\u001B[49m\u001B[38;5;241;43m.\u001B[39;49m\u001B[38;5;21;43m__init__\u001B[39;49m\u001B[43m(\u001B[49m\u001B[43mconfig\u001B[49m\u001B[38;5;241;43m.\u001B[39;49m\u001B[43msim_cfg\u001B[49m\u001B[43m,\u001B[49m\u001B[43m \u001B[49m\u001B[43mconfig\u001B[49m\u001B[38;5;241;43m.\u001B[39;49m\u001B[43mmetadata_mediator\u001B[49m\u001B[43m)\u001B[49m\n\u001B[1;32m    212\u001B[0m         \u001B[38;5;28mself\u001B[39m\u001B[38;5;241m.\u001B[39m_initialized \u001B[38;5;241m=\u001B[39m \u001B[38;5;28;01mTrue\u001B[39;00m\n\u001B[1;32m    213\u001B[0m     \u001B[38;5;28;01melse\u001B[39;00m:\n",
      "\u001B[0;31mAssertionError\u001B[0m: ESP_CHECK failed: No Stage Attributes exists for requested scene '/minival/00800-TEEsavR23oF/TEEsavR23oF.basis.glb' in currently specified Scene Dataset `/Users/wenxiao/data/scene_datasets/hm3d/hm3d_annotated_basis.scene_dataset_config.json`. Likely cause is either the Scene Dataset Configuration requested was not found, or the paths to the various dataset component configuration files (i.e. stage, object, scene instance, etc.) specified in the Scene Dataset Configuration file cannot be found. Verify the paths and filenames for the desired Scene Dataset Configuration file and the paths specified within the file."
     ]
    }
   ],
   "execution_count": 1
  },
  {
   "metadata": {},
   "cell_type": "code",
   "outputs": [],
   "execution_count": null,
   "source": "",
   "id": "fd0dfb6cdebd045d"
  }
 ],
 "metadata": {
  "kernelspec": {
   "display_name": "Python 3",
   "language": "python",
   "name": "python3"
  },
  "language_info": {
   "codemirror_mode": {
    "name": "ipython",
    "version": 2
   },
   "file_extension": ".py",
   "mimetype": "text/x-python",
   "name": "python",
   "nbconvert_exporter": "python",
   "pygments_lexer": "ipython2",
   "version": "2.7.6"
  }
 },
 "nbformat": 4,
 "nbformat_minor": 5
}
